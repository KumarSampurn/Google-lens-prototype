{
 "cells": [
  {
   "cell_type": "code",
   "execution_count": 1,
   "metadata": {},
   "outputs": [
    {
     "name": "stdout",
     "output_type": "stream",
     "text": [
      "Downloading https://github.com/ultralytics/assets/releases/download/v8.1.0/yolov8n.pt to 'yolov8n.pt'...\n"
     ]
    },
    {
     "name": "stderr",
     "output_type": "stream",
     "text": [
      "100%|██████████| 6.23M/6.23M [00:07<00:00, 846kB/s] \n"
     ]
    }
   ],
   "source": [
    "from ultralytics import YOLO\n",
    "\n",
    "# Load a pretrained YOLOv8n model\n",
    "model = YOLO('yolov8n.pt')"
   ]
  },
  {
   "cell_type": "code",
   "execution_count": 101,
   "metadata": {},
   "outputs": [
    {
     "name": "stdout",
     "output_type": "stream",
     "text": [
      "\n",
      "image 1/1 /home/epsilon/Desktop/Google-lens-prototype/Dataset/download/Fruits/31.jpeg: 640x512 1 orange, 1 refrigerator, 77.0ms\n",
      "Speed: 1.7ms preprocess, 77.0ms inference, 0.7ms postprocess per image at shape (1, 3, 640, 512)\n"
     ]
    },
    {
     "data": {
      "text/plain": [
       "['refrigerator', 'orange']"
      ]
     },
     "execution_count": 101,
     "metadata": {},
     "output_type": "execute_result"
    }
   ],
   "source": [
    "# Run inference on an image\n",
    "results = model('./Dataset/download/Fruits/31.jpeg' , conf = 0.5)  # results list\n",
    "\n",
    "\n",
    "# View results\n",
    "\n",
    "boxex = results[0].boxes.cpu().numpy()\n",
    "class_labels = boxex.cls\n",
    "\n",
    "class_labels = set(class_labels)\n",
    "names = results[0].names\n",
    "\n",
    "objects = [ names[i] for i in class_labels ]\n",
    "\n",
    "objects\n",
    "\n",
    "    \n",
    "    "
   ]
  }
 ],
 "metadata": {
  "kernelspec": {
   "display_name": "Python 3",
   "language": "python",
   "name": "python3"
  },
  "language_info": {
   "codemirror_mode": {
    "name": "ipython",
    "version": 3
   },
   "file_extension": ".py",
   "mimetype": "text/x-python",
   "name": "python",
   "nbconvert_exporter": "python",
   "pygments_lexer": "ipython3",
   "version": "3.10.12"
  },
  "orig_nbformat": 4
 },
 "nbformat": 4,
 "nbformat_minor": 2
}
